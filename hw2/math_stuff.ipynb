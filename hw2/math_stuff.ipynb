{
 "cells": [
  {
   "cell_type": "code",
   "execution_count": 3,
   "metadata": {},
   "outputs": [
    {
     "name": "stdout",
     "output_type": "stream",
     "text": [
      "0.04879494069539847\n",
      "0.31127812445913283\n",
      "0.5487949406953986\n"
     ]
    }
   ],
   "source": [
    "import math\n",
    "\n",
    "I_A = 1 - ((5/8) * (-(3/5) * math.log2(3/5)-(2/5) * math.log2(2/5))+(3/8) * (-1/3*math.log2(1/3)-2/3*math.log2(2/3)))\n",
    "print(I_A)\n",
    "\n",
    "I_B = 1 - (2 * (3/8) * ((-2/3*math.log2(2/3)) - (1/3*math.log2(1/3)) ) )\n",
    "print(I_B)\n",
    "\n",
    "I_C = 1 - ( 5/8 * (-4/5*math.log2(4/5) - 1/5*math.log2(1/5)) )\n",
    "print(I_C)"
   ]
  }
 ],
 "metadata": {
  "kernelspec": {
   "display_name": "Python 3",
   "language": "python",
   "name": "python3"
  },
  "language_info": {
   "codemirror_mode": {
    "name": "ipython",
    "version": 3
   },
   "file_extension": ".py",
   "mimetype": "text/x-python",
   "name": "python",
   "nbconvert_exporter": "python",
   "pygments_lexer": "ipython3",
   "version": "3.8.10"
  },
  "orig_nbformat": 4
 },
 "nbformat": 4,
 "nbformat_minor": 2
}
